{
 "cells": [
  {
   "cell_type": "code",
   "execution_count": 26,
   "id": "a5743aa5-454a-40fe-b4e3-89d0af14d598",
   "metadata": {},
   "outputs": [],
   "source": [
    "import yfinance as yf\n",
    "import pandas as pd\n",
    "import matplotlib.pyplot as plt"
   ]
  },
  {
   "cell_type": "code",
   "execution_count": 2,
   "id": "b583361e-d723-450f-a6e8-d2f0c9070d34",
   "metadata": {},
   "outputs": [],
   "source": [
    "ticker = \"BTC-USD\"        #using bitcoin here\n",
    "start, end = \"2020-01-01\", \"2025-05-28\""
   ]
  },
  {
   "cell_type": "code",
   "execution_count": 3,
   "id": "9454eb38-6ce7-4315-80af-dcd4fad68213",
   "metadata": {},
   "outputs": [
    {
     "name": "stdout",
     "output_type": "stream",
     "text": [
      "YF.download() has changed argument auto_adjust default to True\n"
     ]
    },
    {
     "name": "stderr",
     "output_type": "stream",
     "text": [
      "[*********************100%***********************]  1 of 1 completed\n"
     ]
    }
   ],
   "source": [
    "df = yf.download(ticker, start=start, end=end)"
   ]
  },
  {
   "cell_type": "code",
   "execution_count": 4,
   "id": "4c7762a2-52d5-42eb-8c3f-934c29856d5f",
   "metadata": {},
   "outputs": [],
   "source": [
    "if isinstance(df.columns, pd.MultiIndex):\n",
    "    df.columns = df.columns.droplevel(1) #flatten dataframe"
   ]
  },
  {
   "cell_type": "code",
   "execution_count": 5,
   "id": "0f4ac49b-dcfc-40fa-aa93-2e36533980fc",
   "metadata": {},
   "outputs": [
    {
     "name": "stdout",
     "output_type": "stream",
     "text": [
      "Columns: ['Close', 'High', 'Low', 'Open', 'Volume']\n"
     ]
    },
    {
     "data": {
      "text/html": [
       "<div>\n",
       "<style scoped>\n",
       "    .dataframe tbody tr th:only-of-type {\n",
       "        vertical-align: middle;\n",
       "    }\n",
       "\n",
       "    .dataframe tbody tr th {\n",
       "        vertical-align: top;\n",
       "    }\n",
       "\n",
       "    .dataframe thead th {\n",
       "        text-align: right;\n",
       "    }\n",
       "</style>\n",
       "<table border=\"1\" class=\"dataframe\">\n",
       "  <thead>\n",
       "    <tr style=\"text-align: right;\">\n",
       "      <th>Price</th>\n",
       "      <th>Close</th>\n",
       "      <th>High</th>\n",
       "      <th>Low</th>\n",
       "      <th>Open</th>\n",
       "      <th>Volume</th>\n",
       "    </tr>\n",
       "    <tr>\n",
       "      <th>Date</th>\n",
       "      <th></th>\n",
       "      <th></th>\n",
       "      <th></th>\n",
       "      <th></th>\n",
       "      <th></th>\n",
       "    </tr>\n",
       "  </thead>\n",
       "  <tbody>\n",
       "    <tr>\n",
       "      <th>2020-01-01</th>\n",
       "      <td>7200.174316</td>\n",
       "      <td>7254.330566</td>\n",
       "      <td>7174.944336</td>\n",
       "      <td>7194.892090</td>\n",
       "      <td>18565664997</td>\n",
       "    </tr>\n",
       "    <tr>\n",
       "      <th>2020-01-02</th>\n",
       "      <td>6985.470215</td>\n",
       "      <td>7212.155273</td>\n",
       "      <td>6935.270020</td>\n",
       "      <td>7202.551270</td>\n",
       "      <td>20802083465</td>\n",
       "    </tr>\n",
       "    <tr>\n",
       "      <th>2020-01-03</th>\n",
       "      <td>7344.884277</td>\n",
       "      <td>7413.715332</td>\n",
       "      <td>6914.996094</td>\n",
       "      <td>6984.428711</td>\n",
       "      <td>28111481032</td>\n",
       "    </tr>\n",
       "    <tr>\n",
       "      <th>2020-01-04</th>\n",
       "      <td>7410.656738</td>\n",
       "      <td>7427.385742</td>\n",
       "      <td>7309.514160</td>\n",
       "      <td>7345.375488</td>\n",
       "      <td>18444271275</td>\n",
       "    </tr>\n",
       "    <tr>\n",
       "      <th>2020-01-05</th>\n",
       "      <td>7411.317383</td>\n",
       "      <td>7544.497070</td>\n",
       "      <td>7400.535645</td>\n",
       "      <td>7410.451660</td>\n",
       "      <td>19725074095</td>\n",
       "    </tr>\n",
       "  </tbody>\n",
       "</table>\n",
       "</div>"
      ],
      "text/plain": [
       "Price             Close         High          Low         Open       Volume\n",
       "Date                                                                       \n",
       "2020-01-01  7200.174316  7254.330566  7174.944336  7194.892090  18565664997\n",
       "2020-01-02  6985.470215  7212.155273  6935.270020  7202.551270  20802083465\n",
       "2020-01-03  7344.884277  7413.715332  6914.996094  6984.428711  28111481032\n",
       "2020-01-04  7410.656738  7427.385742  7309.514160  7345.375488  18444271275\n",
       "2020-01-05  7411.317383  7544.497070  7400.535645  7410.451660  19725074095"
      ]
     },
     "execution_count": 5,
     "metadata": {},
     "output_type": "execute_result"
    }
   ],
   "source": [
    "print(\"Columns:\", df.columns.tolist())\n",
    "df.head()"
   ]
  },
  {
   "cell_type": "code",
   "execution_count": 6,
   "id": "621a12ef-cedd-47ea-a252-602df7fc53e6",
   "metadata": {},
   "outputs": [],
   "source": [
    "df[\"Return1\"] = df['Close'].pct_change() #captures daily momentum\n",
    "df[\"MA5\"]     = df['Close'].rolling(5).mean() #takes the average of the last 5 closing prices\n",
    "df[\"MA10\"]    = df['Close'].rolling(10).mean() #takes the average of the last 10 closing prices\n",
    "df[\"VolChg\"]  = df[\"Volume\"].pct_change() #computes the day‑to‑day percentage change in trading volume"
   ]
  },
  {
   "cell_type": "code",
   "execution_count": 7,
   "id": "1ccf5720-ef7f-4091-b4a4-95661d66c617",
   "metadata": {},
   "outputs": [],
   "source": [
    "df = df.dropna()"
   ]
  },
  {
   "cell_type": "code",
   "execution_count": 8,
   "id": "85cc8f90-2d2f-491a-b60c-33ca6509c402",
   "metadata": {},
   "outputs": [],
   "source": [
    "df = df.copy()"
   ]
  },
  {
   "cell_type": "code",
   "execution_count": 9,
   "id": "0a75f66d-b945-42d6-a1ac-3c78d7599d64",
   "metadata": {},
   "outputs": [
    {
     "data": {
      "image/png": "[encoded data removed]",
      "text/plain": [
       "<Figure size 600x400 with 1 Axes>"
      ]
     },
     "metadata": {},
     "output_type": "display_data"
    }
   ],
   "source": [
    "plt.figure(figsize=(6,4))\n",
    "df[\"Return1\"].hist(bins=50)\n",
    "plt.title(\"1‑Day Return Distribution\")\n",
    "plt.xlabel(\"Pct Change\")\n",
    "plt.show()"
   ]
  },
  {
   "cell_type": "markdown",
   "id": "bf38ca85-a824-45ab-bfc4-c31b71cb1f03",
   "metadata": {},
   "source": [
    "- Plots a histogram of the `Return1` feature, i.e. the one‑day percentage change in closing price.  \n",
    "- Uses 50 bins to show how frequently different levels of daily return occur. \n",
    "- The bulk of the bars sits tightly around **0%**, meaning most days see very small moves.  \n",
    "- The distribution is roughly **bell‑shaped** but with **fat tails** (visible at ±10–20%), indicating occasional large jumps up or down.  \n",
    "- A few extreme bars at the far left (e.g. –30%) or right (+15%) show rare but significant price swings—these outlier days can be the hardest for a model to predict accurately.  \n",
    "- Understanding this shape tells us how “risky” the classification problem is: if almost every day is close to 0%, a naive model might do well by just predicting “no change,” but those fat‑tail days could dominate your error if they occur in your test set. "
   ]
  },
  {
   "cell_type": "code",
   "execution_count": 10,
   "id": "04c851a3-e968-4444-8d6d-a3ea1e16a457",
   "metadata": {},
   "outputs": [],
   "source": [
    "from sklearn.model_selection import train_test_split\n",
    "\n",
    "# 3.1 Next‑day up/down label\n",
    "df[\"Target\"] = (df['Close'].shift(-1) > df['Close']).astype(int)\n",
    "df = df.dropna(subset=[\"Target\"])\n",
    "\n",
    "# 3.2 Define features & split (no shuffle)\n",
    "features = [\"Return1\", \"MA5\", \"MA10\", \"VolChg\"]\n",
    "X, y = df[features], df[\"Target\"]\n",
    "\n",
    "X_train, X_test, y_train, y_test = train_test_split(\n",
    "    X, y, test_size=0.2, shuffle=False\n",
    ")"
   ]
  },
  {
   "cell_type": "markdown",
   "id": "356909e3-4b6a-4162-98ba-1382febc3c60",
   "metadata": {},
   "source": [
    "- Looks one day ahead (shift(-1)) and compares tomorrow’s close to today’s.\n",
    "- Encodes 1 if the price goes up, 0 otherwise."
   ]
  },
  {
   "cell_type": "code",
   "execution_count": 11,
   "id": "2bdbd917-6323-442e-a6b7-a03899123fbc",
   "metadata": {},
   "outputs": [
    {
     "name": "stdout",
     "output_type": "stream",
     "text": [
      "Logistic Regression\n",
      "Accuracy: 0.5012722646310432\n",
      "              precision    recall  f1-score   support\n",
      "\n",
      "           0       0.50      0.96      0.65       193\n",
      "           1       0.61      0.06      0.10       200\n",
      "\n",
      "    accuracy                           0.50       393\n",
      "   macro avg       0.55      0.51      0.38       393\n",
      "weighted avg       0.55      0.50      0.37       393\n",
      "\n",
      "Confusion Matrix:\n",
      " [[186   7]\n",
      " [189  11]]\n",
      "\n",
      "Random Forest\n",
      "Accuracy: 0.5267175572519084\n",
      "              precision    recall  f1-score   support\n",
      "\n",
      "           0       0.51      0.81      0.63       193\n",
      "           1       0.58      0.25      0.35       200\n",
      "\n",
      "    accuracy                           0.53       393\n",
      "   macro avg       0.55      0.53      0.49       393\n",
      "weighted avg       0.55      0.53      0.49       393\n",
      "\n",
      "Confusion Matrix:\n",
      " [[157  36]\n",
      " [150  50]]\n"
     ]
    }
   ],
   "source": [
    "from sklearn.linear_model import LogisticRegression\n",
    "from sklearn.ensemble import RandomForestClassifier\n",
    "from sklearn.metrics import accuracy_score, classification_report, confusion_matrix\n",
    "\n",
    "# 4.1 Logistic Regression\n",
    "lr = LogisticRegression(max_iter=1000)\n",
    "lr.fit(X_train, y_train)\n",
    "y_pred = lr.predict(X_test)\n",
    "\n",
    "print(\"Logistic Regression\")\n",
    "print(\"Accuracy:\", accuracy_score(y_test, y_pred))\n",
    "print(classification_report(y_test, y_pred))\n",
    "print(\"Confusion Matrix:\\n\", confusion_matrix(y_test, y_pred))\n",
    "\n",
    "# 4.2 Random Forest\n",
    "rf = RandomForestClassifier(n_estimators=100, random_state=42)\n",
    "rf.fit(X_train, y_train)\n",
    "y_rf = rf.predict(X_test)\n",
    "\n",
    "print(\"\\nRandom Forest\")\n",
    "print(\"Accuracy:\", accuracy_score(y_test, y_rf))\n",
    "print(classification_report(y_test, y_rf))\n",
    "print(\"Confusion Matrix:\\n\", confusion_matrix(y_test, y_rf))"
   ]
  },
  {
   "cell_type": "markdown",
   "id": "24250544-b967-4f0f-8972-ef652131f53c",
   "metadata": {},
   "source": [
    "**How to interpret the results**  \n",
    "\n",
    "1. **Logistic Regression**  \n",
    "   - **Accuracy ~ 0.50**: only slightly better than random guessing (which would be 50% if classes are balanced).  \n",
    "   - **Precision / Recall**:  \n",
    "     - Class 0 (“down”): precision 0.50, recall 0.96 → almost every actual “down” day is caught (few false negatives), but half of “down” predictions are wrong.  \n",
    "     - Class 1 (“up”): precision 0.61, recall 0.06 → when it calls “up,” it’s right 61% of the time, but it misses 94% of actual up‑moves (very low recall).  \n",
    "   - **Confusion Matrix**  \n",
    "     ```\n",
    "     [[186   7]   ← predicted “down”: 186 TN, 7 FP  \n",
    "      [189  11]]  ← predicted “up”  : 189 FN, 11 TP\n",
    "     ```\n",
    "     Most errors are **false negatives** (missed up‑days).\n",
    "\n",
    "2. **Random Forest**  \n",
    "   - **Accuracy ~ 0.53**: a modest bump over logistic regression.  \n",
    "   - **Precision / Recall**:  \n",
    "     - Class 0: precision 0.51, recall 0.81 → catches 81% of actual down‑days, with half of “down” calls correct.  \n",
    "     - Class 1: precision 0.58, recall 0.25 → better at finding up‑days than LR (recall up from 0.06 → 0.25), but still misses most.  \n",
    "   - **Confusion Matrix**  \n",
    "     ```\n",
    "     [[157 36]   ← 157 TN, 36 FP  \n",
    "      [150 50]]  ← 150 FN, 50 TP\n",
    "     ```\n",
    "     Errors are more balanced: it still misses many up‑days, but raises true positives from 11→50.\n",
    "\n",
    "---\n",
    "\n",
    "**Key takeaways**  \n",
    "- Both models struggle to reliably predict rare or volatile “up” days—our features may be too simplistic.  \n",
    "- **Random Forest** improves recall on up‑days at the cost of more false positives.  \n",
    "- **Next steps**:  \n",
    "  - Enrich features (RSI, MACD, Bollinger Bands, sentiment scores)  \n",
    "  - Try methods to handle class imbalance (e.g. SMOTE, class weights)  \n",
    "  - Hyperparameter tuning (GridSearchCV)  \n",
    "  - Walk‑forward cross‑validation to better simulate a live trading environment  "
   ]
  },
  {
   "cell_type": "code",
   "execution_count": 12,
   "id": "fefb02ec-3247-4f1c-9017-e84e1c088ab7",
   "metadata": {},
   "outputs": [
    {
     "data": {
      "image/png": "[encoded data removed]",
      "text/plain": [
       "<Figure size 600x300 with 1 Axes>"
      ]
     },
     "metadata": {},
     "output_type": "display_data"
    },
    {
     "data": {
      "image/png": "[encoded data removed]",
      "text/plain": [
       "<Figure size 600x300 with 1 Axes>"
      ]
     },
     "metadata": {},
     "output_type": "display_data"
    }
   ],
   "source": [
    "# LR coefficients\n",
    "coeffs = pd.Series(lr.coef_[0], index=features).sort_values()\n",
    "plt.figure(figsize=(6,3))\n",
    "coeffs.plot.barh()\n",
    "plt.title(\"LR Feature Coefficients\")\n",
    "plt.show()\n",
    "\n",
    "# RF feature importances\n",
    "imps = pd.Series(rf.feature_importances_, index=features).sort_values()\n",
    "plt.figure(figsize=(6,3))\n",
    "imps.plot.barh()\n",
    "plt.title(\"RF Feature Importances\")\n",
    "plt.show()\n"
   ]
  },
  {
   "cell_type": "markdown",
   "id": "24facec1-2533-4181-a78c-3b051af141d6",
   "metadata": {},
   "source": [
    "LR Feature Coefficients\n",
    "\n",
    "VolChg (volume change) has the largest positive coefficient (~+0.03), meaning days with rising volume are more likely to be labeled “up.”\n",
    "\n",
    "Return1 (previous day’s return) has a negative coefficient (~–0.015), suggesting slight mean‑reversion—after a big up‑day, the model tilts toward predicting a down‑day.\n",
    "\n",
    "MA5 and MA10 coefficients hover around zero, indicating these moving averages added little linear predictive power in this simple setup.\n",
    "\n",
    "RF Feature Importances\n",
    "\n",
    "All four features contribute roughly equally (each ~0.20–0.28), with Return1 slightly leading.\n",
    "\n",
    "This tells us the random forest used a mix of momentum (returns), trend (MAs), and volume signals rather than over‑relying on a single indicator.\n",
    "\n",
    "Key takeaway\n",
    "\n",
    "Volume change is the strongest single linear predictor, but in a tree‑based model all features play a substantial role.\n",
    "\n",
    "The negative LR weight on yesterday’s return hints at mean‑reversion, while the forest’s more balanced importances suggest it captures a combination of momentum and trend signals."
   ]
  }
 ],
 "metadata": {
  "kernelspec": {
   "display_name": "Python 3 (ipykernel)",
   "language": "python",
   "name": "python3"
  },
  "language_info": {
   "codemirror_mode": {
    "name": "ipython",
    "version": 3
   },
   "file_extension": ".py",
   "mimetype": "text/x-python",
   "name": "python",
   "nbconvert_exporter": "python",
   "pygments_lexer": "ipython3",
   "version": "3.12.7"
  }
 },
 "nbformat": 4,
 "nbformat_minor": 5
}
